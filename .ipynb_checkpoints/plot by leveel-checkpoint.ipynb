{
 "cells": [
  {
   "cell_type": "code",
   "execution_count": 5,
   "metadata": {},
   "outputs": [
    {
     "name": "stdout",
     "output_type": "stream",
     "text": [
      "CAvideos transfer to DataFrame\n",
      "DEvideos transfer to DataFrame\n",
      "FRvideos transfer to DataFrame\n",
      "GBvideos transfer to DataFrame\n",
      "USvideos transfer to DataFrame\n"
     ]
    }
   ],
   "source": [
    "import pandas as pd\n",
    "import os\n",
    "\n",
    "\n",
    "def data_merge(fpath):#fpath : ...../NDSC/datasets/\n",
    "    file_name = ['CAvideos', 'GBvideos','USvideos']\n",
    "\n",
    "    pieces = []\n",
    "    for fn in file_name:    \n",
    "        df = pd.read_csv(fpath+'/'+fn+'.csv')\n",
    "        print(fn +  ' ' + 'transfer to DataFrame')\n",
    "        pieces.append(df)\n",
    "    \n",
    "\n",
    "    df_ver1 = pd.concat(pieces, ignore_index = True)\n",
    "    return df_ver1 \n",
    "\n",
    "\n",
    "if __name__ == '__main__':\n",
    "\n",
    "    _cur_dir = os.path.abspath('.')+'/datasets'\n",
    "    dataset_df = data_merge(_cur_dir)\n",
    "\n",
    "    _views = dataset_df['views']\n",
    "    sorted_Series_by_view = _views.sort_values()\n",
    "    #print(sorted_Series_by_view)\n",
    "\n",
    "\n",
    "    _div = 9 \n",
    "    _len = len(sorted_Series_by_view)\n",
    "    \n",
    "    _pct = [0.04, 0.07, 0.12, 0.17, 0.20, 0.17, 0.12, 0.07, 0.04]\n",
    "\n",
    "    #각 레벨별 데이터 개수\n",
    "    _view_cnts_by_pct = [ int(_len * pct) +1 for pct in _pct ]\n",
    "\n",
    "    #각 레벨별 데이터 포인트 리스트가 저장되어 있다\n",
    "    _dfs_by_level = [] #9등급\n",
    "    _st = 0 \n",
    "    for vcnt in _view_cnts_by_pct:\n",
    "        _et = _st + vcnt\n",
    "\n",
    "        _lst = sorted_Series_by_view[_st:_et]\n",
    "        _dfs_by_level.append(_lst)\n",
    "\n",
    "        _st = _et \n",
    "    \n",
    "    final_list = []\n",
    "    for lst in _dfs_by_level:\n",
    "        final_list.extend(lst)\n",
    "        \n",
    "    #print(final_list)"
   ]
  },
  {
   "cell_type": "code",
   "execution_count": 6,
   "metadata": {},
   "outputs": [],
   "source": [
    "import seaborn as sns\n",
    "import matplotlib.pyplot as plt\n"
   ]
  },
  {
   "cell_type": "code",
   "execution_count": 43,
   "metadata": {
    "scrolled": true
   },
   "outputs": [
    {
     "data": {
      "image/png": "[encoded data removed]",
      "text/plain": [
       "<Figure size 432x288 with 9 Axes>"
      ]
     },
     "metadata": {},
     "output_type": "display_data"
    }
   ],
   "source": [
    "\n",
    "#_dfs_by_level\n",
    "\n",
    "#print(_data)\n",
    "\n",
    "plt.subplots(1,9)\n",
    "\n",
    "for g in range(9):\n",
    "    plt.scatter(x=range(len(_dfs_by_level[g])),y=_dfs_by_level[g])\n"
   ]
  },
  {
   "cell_type": "code",
   "execution_count": 14,
   "metadata": {},
   "outputs": [],
   "source": []
  },
  {
   "cell_type": "code",
   "execution_count": 15,
   "metadata": {},
   "outputs": [
    {
     "data": {
      "text/plain": [
       "range(0, 100)"
      ]
     },
     "execution_count": 15,
     "metadata": {},
     "output_type": "execute_result"
    }
   ],
   "source": []
  },
  {
   "cell_type": "code",
   "execution_count": null,
   "metadata": {},
   "outputs": [],
   "source": []
  }
 ],
 "metadata": {
  "kernelspec": {
   "display_name": "Python 3",
   "language": "python",
   "name": "python3"
  },
  "language_info": {
   "codemirror_mode": {
    "name": "ipython",
    "version": 3
   },
   "file_extension": ".py",
   "mimetype": "text/x-python",
   "name": "python",
   "nbconvert_exporter": "python",
   "pygments_lexer": "ipython3",
   "version": "3.6.5"
  }
 },
 "nbformat": 4,
 "nbformat_minor": 2
}
