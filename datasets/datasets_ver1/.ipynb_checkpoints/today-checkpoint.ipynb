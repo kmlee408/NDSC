{
 "cells": [
  {
   "cell_type": "code",
   "execution_count": 1,
   "metadata": {},
   "outputs": [
    {
     "name": "stderr",
     "output_type": "stream",
     "text": [
      "/usr/local/Anaconda3/lib/python3.6/importlib/_bootstrap.py:219: RuntimeWarning: numpy.dtype size changed, may indicate binary incompatibility. Expected 96, got 88\n",
      "  return f(*args, **kwds)\n",
      "/usr/local/Anaconda3/lib/python3.6/importlib/_bootstrap.py:219: RuntimeWarning: numpy.dtype size changed, may indicate binary incompatibility. Expected 96, got 88\n",
      "  return f(*args, **kwds)\n"
     ]
    }
   ],
   "source": [
    "import pandas as pd\n",
    "import numpy as np"
   ]
  },
  {
   "cell_type": "code",
   "execution_count": 2,
   "metadata": {},
   "outputs": [
    {
     "name": "stderr",
     "output_type": "stream",
     "text": [
      "/usr/local/Anaconda3/lib/python3.6/site-packages/ipykernel_launcher.py:3: SettingWithCopyWarning: \n",
      "A value is trying to be set on a copy of a slice from a DataFrame\n",
      "\n",
      "See the caveats in the documentation: http://pandas.pydata.org/pandas-docs/stable/indexing.html#indexing-view-versus-copy\n",
      "  This is separate from the ipykernel package so we can avoid doing imports until\n"
     ]
    }
   ],
   "source": [
    "csv = pd.read_csv('./CAvideos_ver1.csv')\n",
    "\n",
    "csv['views'][0]='abcdef'\n"
   ]
  },
  {
   "cell_type": "code",
   "execution_count": 3,
   "metadata": {},
   "outputs": [],
   "source": [
    "def remove_not_ints(df):\n",
    "    ret = []\n",
    "    _len = len(df)\n",
    "    for idx in range(_len):\n",
    "        try:\n",
    "            val = int(df['views'][idx])\n",
    "        except Exception as e:\n",
    "            print('occured') \n",
    "            ret.append(idx)\n",
    "            \n",
    "    \n",
    "    return ret"
   ]
  },
  {
   "cell_type": "code",
   "execution_count": 4,
   "metadata": {},
   "outputs": [
    {
     "name": "stdout",
     "output_type": "stream",
     "text": [
      "occured\n",
      "occured\n",
      "occured\n"
     ]
    }
   ],
   "source": [
    "rets = remove_not_ints(csv)"
   ]
  },
  {
   "cell_type": "code",
   "execution_count": 5,
   "metadata": {},
   "outputs": [],
   "source": [
    "csv = csv.drop(csv.index[rets])['views']"
   ]
  },
  {
   "cell_type": "code",
   "execution_count": 6,
   "metadata": {},
   "outputs": [
    {
     "data": {
      "text/plain": [
       "1         1014651\n",
       "2         3191434\n",
       "3         2095828\n",
       "4        33523622\n",
       "5         1309699\n",
       "6         2987945\n",
       "7          748374\n",
       "8         4477587\n",
       "9          505161\n",
       "10        5068229\n",
       "11        3153224\n",
       "12         158815\n",
       "13        5718766\n",
       "14         960747\n",
       "15        1531218\n",
       "16         557883\n",
       "17        1496225\n",
       "18         308568\n",
       "19        1096327\n",
       "20         817732\n",
       "21         343168\n",
       "22        3905245\n",
       "23        4204818\n",
       "24         549374\n",
       "25         348841\n",
       "26         370827\n",
       "27         653398\n",
       "28          92280\n",
       "29         178447\n",
       "30         585425\n",
       "           ...   \n",
       "40851     1615246\n",
       "40852      266267\n",
       "40853      950727\n",
       "40854       94667\n",
       "40855       42908\n",
       "40856      109662\n",
       "40857    16256855\n",
       "40858      436795\n",
       "40859      617135\n",
       "40860     1780097\n",
       "40861      812832\n",
       "40862      345870\n",
       "40863      191974\n",
       "40864     2557709\n",
       "40865     1392609\n",
       "40866      293765\n",
       "40867      104279\n",
       "40868      793685\n",
       "40869      168717\n",
       "40870      362153\n",
       "40871      182184\n",
       "40872      261128\n",
       "40873      774509\n",
       "40874      505968\n",
       "40875      201847\n",
       "40876       80685\n",
       "40877      103339\n",
       "40878      773347\n",
       "40879      115225\n",
       "40880      107392\n",
       "Name: views, Length: 40878, dtype: object"
      ]
     },
     "execution_count": 6,
     "metadata": {},
     "output_type": "execute_result"
    }
   ],
   "source": [
    "def _to_ints(val):\n",
    "    try:\n",
    "        v = int(val)\n",
    "    except ValueError:\n",
    "        return -1\n",
    "    else:\n",
    "        return v"
   ]
  },
  {
   "cell_type": "code",
   "execution_count": null,
   "metadata": {},
   "outputs": [],
   "source": []
  }
 ],
 "metadata": {
  "kernelspec": {
   "display_name": "Python 3",
   "language": "python",
   "name": "python3"
  },
  "language_info": {
   "codemirror_mode": {
    "name": "ipython",
    "version": 3
   },
   "file_extension": ".py",
   "mimetype": "text/x-python",
   "name": "python",
   "nbconvert_exporter": "python",
   "pygments_lexer": "ipython3",
   "version": "3.6.5"
  }
 },
 "nbformat": 4,
 "nbformat_minor": 2
}
