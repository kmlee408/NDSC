{
 "cells": [
  {
   "cell_type": "code",
   "execution_count": 1,
   "metadata": {},
   "outputs": [
    {
     "name": "stderr",
     "output_type": "stream",
     "text": [
      "/usr/local/Anaconda3/lib/python3.6/importlib/_bootstrap.py:219: RuntimeWarning: numpy.dtype size changed, may indicate binary incompatibility. Expected 96, got 88\n",
      "  return f(*args, **kwds)\n",
      "/usr/local/Anaconda3/lib/python3.6/importlib/_bootstrap.py:219: RuntimeWarning: numpy.dtype size changed, may indicate binary incompatibility. Expected 96, got 88\n",
      "  return f(*args, **kwds)\n"
     ]
    }
   ],
   "source": [
    "import seaborn as sns\n",
    "import numpy as np\n",
    "import matplotlib as plt"
   ]
  },
  {
   "cell_type": "code",
   "execution_count": 3,
   "metadata": {},
   "outputs": [
    {
     "name": "stdout",
     "output_type": "stream",
     "text": [
      "CAvideos transfer to DataFrame\n",
      "video_id                  object\n",
      "trending_date             object\n",
      "title                     object\n",
      "channel_title             object\n",
      "category_id                int64\n",
      "publish_time              object\n",
      "duration                   int64\n",
      "tags                      object\n",
      "views                     object\n",
      "likes                     object\n",
      "dislikes                   int64\n",
      "comment_count              int64\n",
      "thumbnail_link            object\n",
      "comments_disabled         object\n",
      "ratings_disabled          object\n",
      "video_error_or_removed      bool\n",
      "description               object\n",
      "Unnamed: 17               object\n",
      "Unnamed: 18               object\n",
      "dtype: object\n"
     ]
    }
   ],
   "source": [
    "import pandas as pd\n",
    "import os\n",
    "\n",
    "\n",
    "\n",
    "file_name = ['CAvideos']\n",
    "\n",
    "pieces = []\n",
    "for fn in file_name:    \n",
    "    df = pd.read_csv(fn+'_ver1.csv')\n",
    "    print(fn +  ' ' + 'transfer to DataFrame')\n",
    "    pieces.append(df)\n",
    "    \n",
    "\n",
    "df_ver1 = pd.concat(pieces, ignore_index = True, sort=False)\n",
    "\n",
    "print(df_ver1.dtypes)"
   ]
  },
  {
   "cell_type": "code",
   "execution_count": null,
   "metadata": {},
   "outputs": [],
   "source": [
    "def get_df_sorted_by_values(dataframe, _by='views'):\n",
    "    '''\n",
    "    returns a dataframe that is sorted by number of views\n",
    "    '''\n",
    "    dataframe[_by].astype(np.int64)\n",
    "    _len_dataframe = len(dataframe)\n",
    "\n",
    "    _dataframe = dataframe.sort_values(by=[_by])\n",
    "    _dataframe.index = range(_len_dataframe)\n",
    "\n",
    "    return _dataframe"
   ]
  },
  {
   "cell_type": "code",
   "execution_count": null,
   "metadata": {},
   "outputs": [],
   "source": [
    "df_ver2 = get_df_sorted_by_values(df_ver1)"
   ]
  },
  {
   "cell_type": "code",
   "execution_count": null,
   "metadata": {},
   "outputs": [],
   "source": [
    "def group_by_categoryid(dataframe):\n",
    "    #_min_categoryid = min(int(dataframe['category_id']))\n",
    "    #_max_categoryid = max(int(dataframe['category_id']))\n",
    "\n",
    "    \n",
    "    _category_ids = dataframe['category_id']\n",
    "    _video_ids = dataframe['video_id']\n",
    "\n",
    "    _categorized_videos = { k:v for k,v in zip(_category_ids, _video_ids) }\n",
    "\n",
    "    return _categorized_videos"
   ]
  },
  {
   "cell_type": "code",
   "execution_count": null,
   "metadata": {},
   "outputs": [],
   "source": [
    "def divide_by_level(levels=9, value='views'):\n",
    "    #_merged_df = merge_data()\n",
    "\n",
    "    _views_series = df_ver1[value]\n",
    "    _views_series_sorted = _views_series.sort_values() #in ascending order\n",
    "\n",
    "    _div = levels\n",
    "    _len = len(_views_series_sorted)\n",
    "\n",
    "    #percentage of level 9 ~ 1\n",
    "    _pct = [0.04, 0.07, 0.12, 0.17, 0.20, 0.17, 0.12, 0.07, 0.04]\n",
    "\n",
    "    #list of ( no. of datapoints in level9 ~ 1 )\n",
    "    _dps_cnts_levels = [ int(_len * pct) +1 for pct in _pct ]\n",
    "\n",
    "    #list of lists (each list is datapoints in level9 ~ 1)\n",
    "    _dps_vals_levels = []\n",
    "\n",
    "    #divide dps operation\n",
    "    _st = 0\n",
    "    for vcnt in _view_cnts_by_pct:\n",
    "        _et = _st + vcnt\n",
    "\n",
    "        _lst = _views[_st:_et]\n",
    "        _dps_vals_levels.append(_lst)\n",
    "\n",
    "        _st = _et\n",
    "\n",
    "    #dps_cnts_levels : list of cnts in each level\n",
    "    #dps_vals_levels : list of views in each level\n",
    "    return (dps_cnts_levels,_dps_vals_levels)    \n",
    "\n",
    "\n",
    "def get_df_sorted_by_values(dataframe, _by='views'):\n",
    "    '''\n",
    "    returns a dataframe that is sorted by number of views\n",
    "    '''\n",
    "\n",
    "    _len_dataframe = len(dataframe)\n",
    "\n",
    "    _dataframe = dataframe.sort_values(by=[_by])\n",
    "    _dataframe.index = range(_len_dataframe)\n",
    "\n",
    "    return _dataframe"
   ]
  },
  {
   "cell_type": "code",
   "execution_count": null,
   "metadata": {},
   "outputs": [],
   "source": []
  },
  {
   "cell_type": "code",
   "execution_count": null,
   "metadata": {},
   "outputs": [],
   "source": [
    "_dps_cnts_levels"
   ]
  },
  {
   "cell_type": "code",
   "execution_count": null,
   "metadata": {},
   "outputs": [],
   "source": [
    "def make_grade_columns(dataframe):\n",
    "    '''\n",
    "    데이터프레임 등급 매기기 \n",
    "    \n",
    "    '''\n",
    "    \n",
    "    df = get_df_sorted_by_values(dataframe)\n",
    "    \n",
    "    _len = len(df)\n",
    "    #percentage of level 9 ~ 1\n",
    "    _pct = [0.04, 0.07, 0.12, 0.17, 0.20, 0.17, 0.12, 0.07, 0.04]\n",
    "\n",
    "    #list of ( no. of datapoints in level9 ~ 1 )\n",
    "    _dps_cnts_levels = [ int(_len * pct) +1 for pct in _pct ]\n",
    "    _st = 0\n",
    "    Count = 9\n",
    "    for vcnt in _dps_cnts_levels:\n",
    "\n",
    "        _et = _st + vcnt\n",
    "        df.loc[_st:_et, 'Grade'] = str(Count)+' grade'\n",
    "\n",
    "        Count= Count -1\n",
    "        _st = _et\n",
    "\n",
    "    return df"
   ]
  },
  {
   "cell_type": "code",
   "execution_count": null,
   "metadata": {},
   "outputs": [],
   "source": [
    "df_ver2 = make_grade_columns(df_ver1)\n",
    "df_ver2.columns"
   ]
  },
  {
   "cell_type": "code",
   "execution_count": null,
   "metadata": {},
   "outputs": [],
   "source": [
    "def make_graph(dataframe, column_name):\n",
    "    '''\n",
    "    DataFrame과 값을 알 고싶은 Column 이름을 쓰셈\n",
    "    그럼 그래프랑 등급별 평균 산출됨!\n",
    "    numeric columns = ['views','likes','dislikes','category_id','comment_count','duration']\n",
    "    '''\n",
    "\n",
    "    df_ = dataframe.reset_index()\n",
    "    graph = sns.lmplot(data = df_ , x='index', y=column_name, hue ='Grade', fit_reg=False, size= 8)   \n",
    "    # fit_reg = 회귀선 표기할꺼냐\n",
    "    # hue = 구분하는 기준을 뭘로 할꺼냐\n",
    "    \n",
    "    print(column_name + ' Graph')\n",
    "    \n",
    "    \n",
    "    # 등급별 평균값 산출\n",
    "    _pct = [0.04, 0.07, 0.12, 0.17, 0.20, 0.17, 0.12, 0.07]\n",
    "    _len=len(dataframe)\n",
    "    _dps_cnts_levels = [ int(_len * pct) +1 for pct in _pct ]\n",
    "    \n",
    "    _st= 0\n",
    "    Count = 8\n",
    "    for vcnt in _dps_cnts_levels:\n",
    "        \n",
    "        _et = _st + vcnt\n",
    "        print(Count , ' 등급 별 평균 값 : %d' % (sum(df_.loc[_st:_et,column_name])/(_et-_st)))\n",
    "        Count= Count -1\n",
    "        _st = _et\n",
    "    \n",
    "    print('\\n')\n",
    "    \n",
    "    return graph\n",
    "    "
   ]
  },
  {
   "cell_type": "code",
   "execution_count": null,
   "metadata": {},
   "outputs": [],
   "source": [
    "df_ver2.columns"
   ]
  },
  {
   "cell_type": "code",
   "execution_count": null,
   "metadata": {
    "scrolled": false
   },
   "outputs": [],
   "source": [
    "col_names = ['views','likes','dislikes','category_id','comment_count','duration']\n",
    "\n",
    "for i in col_names:\n",
    "    make_graph(df_ver2,i)\n",
    "    "
   ]
  },
  {
   "cell_type": "code",
   "execution_count": null,
   "metadata": {},
   "outputs": [],
   "source": [
    "df_ver3=df_ver2[df_ver2.duration<10000]\n",
    "df_ = df_ver3.reset_index()\n",
    "graph = sns.lmplot(data = df_ , x='index', y='duration', hue ='Grade', fit_reg=False, size= 8)   "
   ]
  },
  {
   "cell_type": "code",
   "execution_count": null,
   "metadata": {},
   "outputs": [],
   "source": []
  }
 ],
 "metadata": {
  "kernelspec": {
   "display_name": "Python 3",
   "language": "python",
   "name": "python3"
  },
  "language_info": {
   "codemirror_mode": {
    "name": "ipython",
    "version": 3
   },
   "file_extension": ".py",
   "mimetype": "text/x-python",
   "name": "python",
   "nbconvert_exporter": "python",
   "pygments_lexer": "ipython3",
   "version": "3.6.5"
  }
 },
 "nbformat": 4,
 "nbformat_minor": 2
}
